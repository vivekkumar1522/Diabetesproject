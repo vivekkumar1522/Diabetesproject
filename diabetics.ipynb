{
 "cells": [
  {
   "cell_type": "code",
   "execution_count": null,
   "id": "9d366e26",
   "metadata": {},
   "outputs": [],
   "source": [
    "import numpy as np\n",
    "import pandas as pd\n",
    "from sklearn.preprocessing import StandardScaler\n",
    "from sklearn.model_selection import train_test_split\n",
    "from sklearn import svm\n",
    "from sklearn.metrics import accuracy_score"
   ]
  },
  {
   "cell_type": "markdown",
   "id": "f74f3c35",
   "metadata": {},
   "source": [
    "data collection and data processing"
   ]
  },
  {
   "cell_type": "code",
   "execution_count": null,
   "id": "3dbf2b44",
   "metadata": {},
   "outputs": [],
   "source": [
    "#loading the dataset diabetis\n",
    "import pandas as pd\n",
    "diabetesdata = pd.read_csv(\"diabetes.csv\")\n",
    "print(diabetesdata.head())\n"
   ]
  },
  {
   "cell_type": "code",
   "execution_count": null,
   "id": "453cf7ab",
   "metadata": {},
   "outputs": [],
   "source": [
    "#no of rows and columns in this dataset\n",
    "print(diabetesdata.info())"
   ]
  },
  {
   "cell_type": "code",
   "execution_count": null,
   "id": "c93b8b1a",
   "metadata": {},
   "outputs": [],
   "source": [
    "#getting the statistical measure of the data\n",
    "print(diabetesdata.describe())"
   ]
  },
  {
   "cell_type": "code",
   "execution_count": null,
   "id": "f4029e66",
   "metadata": {},
   "outputs": [],
   "source": [
    "#checking number of diabeteocs patient \n",
    "diabetesdata['Outcome'].value_counts()"
   ]
  },
  {
   "cell_type": "markdown",
   "id": "a24e13ea",
   "metadata": {},
   "source": [
    "0 - represents non diabetic people\n",
    "1 - represents diabeticc people "
   ]
  },
  {
   "cell_type": "code",
   "execution_count": null,
   "id": "94b0bd62",
   "metadata": {},
   "outputs": [],
   "source": [
    "diabetesdata.groupby(\"Outcome\").mean()"
   ]
  },
  {
   "cell_type": "code",
   "execution_count": null,
   "id": "bcf712c3",
   "metadata": {},
   "outputs": [],
   "source": [
    "#separating data and tables\n",
    "X = diabetesdata.drop(columns=\"Outcome\",axis=1)\n",
    "Y = diabetesdata['Outcome']\n",
    "print(X)\n",
    "print(Y)"
   ]
  },
  {
   "cell_type": "markdown",
   "id": "e3b57d2f",
   "metadata": {},
   "source": [
    "Data standardization"
   ]
  },
  {
   "cell_type": "code",
   "execution_count": null,
   "id": "37fb3f54",
   "metadata": {},
   "outputs": [],
   "source": [
    "from sklearn.preprocessing import StandardScaler\n",
    "scaler = StandardScaler()\n",
    "scaler.fit(X)\n",
    "standardized_data = scaler.transform(X)\n",
    "print(standardized_data)\n"
   ]
  },
  {
   "cell_type": "code",
   "execution_count": null,
   "id": "d28137c8",
   "metadata": {},
   "outputs": [],
   "source": [
    "X = standardized_data\n",
    "Y = diabetesdata['Outcome']\n",
    "print(X)\n",
    "print(Y)\n"
   ]
  },
  {
   "cell_type": "markdown",
   "id": "e69af2f3",
   "metadata": {},
   "source": [
    "\n",
    "train test split"
   ]
  },
  {
   "cell_type": "code",
   "execution_count": null,
   "id": "1707767c",
   "metadata": {},
   "outputs": [],
   "source": [
    "from sklearn.model_selection import train_test_split\n",
    "X_train, X_test, Y_trian, Y_test = train_test_split(X,Y,test_size=0.2,stratify=Y,random_state=2)\n",
    "print(X.shape ,X_train.shape ,X_test.shape )"
   ]
  },
  {
   "cell_type": "markdown",
   "id": "3228d189",
   "metadata": {},
   "source": [
    "training the model\n"
   ]
  },
  {
   "cell_type": "code",
   "execution_count": null,
   "id": "df3e1a39",
   "metadata": {},
   "outputs": [],
   "source": [
    "from sklearn import svm\n",
    "classifier = svm.SVC(kernel=\"linear\")\n",
    "classifier.fit(X_train,Y_trian)\n",
    "\n"
   ]
  },
  {
   "cell_type": "markdown",
   "id": "465e830c",
   "metadata": {},
   "source": [
    "model evalution\n",
    "1.ACCURACY SCORE"
   ]
  },
  {
   "cell_type": "code",
   "execution_count": null,
   "id": "4cb99dd5",
   "metadata": {},
   "outputs": [],
   "source": [
    "#ACCURACY SCORE ON THE TRAINIG DATA \n",
    "from sklearn.metrics import accuracy_score\n",
    "X_train_prediction = classifier.predict(X_train)\n",
    "training_data_accuracy = accuracy_score(X_train_prediction,Y_trian)\n",
    "print(\"accuracy of the training data :\" ,training_data_accuracy)"
   ]
  },
  {
   "cell_type": "markdown",
   "id": "726c64ab",
   "metadata": {},
   "source": [
    "test data "
   ]
  },
  {
   "cell_type": "code",
   "execution_count": null,
   "id": "c8c2a643",
   "metadata": {},
   "outputs": [],
   "source": [
    "X_test_prediction = classifier.predict(X_test)\n",
    "test_data_accuracy = accuracy_score(X_test_prediction,Y_test)\n",
    "print(\"accuracy score of the test data : \" , test_data_accuracy)"
   ]
  },
  {
   "cell_type": "markdown",
   "id": "4e0c096b",
   "metadata": {},
   "source": [
    "making a prediction system "
   ]
  },
  {
   "cell_type": "code",
   "execution_count": null,
   "id": "9aff98e1",
   "metadata": {},
   "outputs": [],
   "source": [
    "input_data = (6,148,72,35,0,33.6,0.627,50,)\n",
    "\n",
    "#changing the input data to numpy array \n",
    "input_data_as_numpy_array = np.asarray(input_data)\n",
    "\n",
    "#reshape the array as we are predicting for one instance\n",
    "input_data_reshaped = input_data_as_numpy_array.reshape(1,-1)\n",
    "\n",
    "#standarized the input data \n",
    "std_data =scaler.transform(input_data_reshaped)\n",
    "print(std_data)\n"
   ]
  },
  {
   "cell_type": "code",
   "execution_count": null,
   "id": "6b6cf163",
   "metadata": {},
   "outputs": [],
   "source": [
    "prediction = classifier.predict(std_data)\n",
    "print(prediction)\n",
    "if (prediction[0] == \"0\"):\n",
    "    print(\"person is diabetic free\")\n",
    "else :\n",
    "    print(\"person is diabetic\")    "
   ]
  },
  {
   "cell_type": "code",
   "execution_count": null,
   "id": "feaac356",
   "metadata": {},
   "outputs": [],
   "source": []
  }
 ],
 "metadata": {
  "kernelspec": {
   "display_name": "Python 3",
   "language": "python",
   "name": "python3"
  },
  "language_info": {
   "codemirror_mode": {
    "name": "ipython",
    "version": 3
   },
   "file_extension": ".py",
   "mimetype": "text/x-python",
   "name": "python",
   "nbconvert_exporter": "python",
   "pygments_lexer": "ipython3",
   "version": "3.9.13"
  }
 },
 "nbformat": 4,
 "nbformat_minor": 5
}
